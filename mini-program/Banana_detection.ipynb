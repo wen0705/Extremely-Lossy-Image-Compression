{
  "nbformat": 4,
  "nbformat_minor": 0,
  "metadata": {
    "colab": {
      "name": "Banana_detection.ipynb",
      "provenance": []
    },
    "kernelspec": {
      "name": "python3",
      "display_name": "Python 3"
    },
    "language_info": {
      "name": "python"
    }
  },
  "cells": [
    {
      "cell_type": "code",
      "metadata": {
        "id": "4WtCetPAlhoo"
      },
      "source": [
        "import cv2\n",
        "import matplotlib.pyplot as plt\n",
        "import cvlib as cv\n",
        "from cvlib import detect_gender\n",
        "import numpy as np\n",
        "from cvlib.object_detection import draw_bbox\n",
        "\n",
        "def VQA(labels):\n",
        "  for label in labels:\n",
        "    if label == 'banana':\n",
        "      return 'yes'\n",
        "    else:\n",
        "      return 'No'\n",
        "\n",
        "# get all the answers\n",
        "answer = []\n",
        "for i in range(100):\n",
        "   img = cv2.imread(f'{i+1}'+'.png')\n",
        "   bbox,label,conf = cv.detect_common_objects(img, confidence=0.5, nms_thresh=0.3, model='yolov3', enable_gpu=False)\n",
        "   answer.append( VQA(label))\n",
        "print('question:Banana?')\n",
        "print('answer:',answer)"
      ],
      "execution_count": null,
      "outputs": []
    }
  ]
}